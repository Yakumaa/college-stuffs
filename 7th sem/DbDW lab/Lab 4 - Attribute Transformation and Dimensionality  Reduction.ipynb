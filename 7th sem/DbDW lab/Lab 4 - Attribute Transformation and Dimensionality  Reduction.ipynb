{
 "cells": [
  {
   "cell_type": "markdown",
   "metadata": {
    "id": "EHYqQxpQ6hJE"
   },
   "source": [
    "# Lab 4: Attribute Transformation and Dimensionality Reduction\n",
    "\n",
    "### Attribute Transformation\n",
    "An attribute transform is a function that maps the entire set of values of a given attribute to a new set of replacement values such that each old value can be identified with one of the new values\n",
    "\n",
    "Dataset contains features with different metrics and scales. For example: pregnant and insulin values are based on different scales of measurement. The magnitude of \"insulin\" value is higher than \"pregnant\" in the diabetes dataset. Hence many algorithm that are sensitive to varying scales of value will be biased towards the one with higher magnitdue.For example neural netwroks are highly sensitive to scaling of the data attributes.Hence we need to convert the dataset into suitabe format before it is fed into the neurons.\n",
    "\n",
    "### The solution to varying scale values   \n",
    "We need a mechanism that scales all the attribute values into a given range typically between 0 to +1 or between a certain specified range. This approach is called feature scaling.\n",
    "\n",
    "Below are two approaches taht converts each feature into same scale\n",
    "1. Min-Max Scaler(Normalization)\n",
    "2. Standardization\n",
    "\n"
   ]
  },
  {
   "cell_type": "markdown",
   "metadata": {
    "id": "gVKKhofF6hJH"
   },
   "source": [
    "### Using MinMaxScaler() Rescaling X_train dataset\n",
    "\n",
    "\n",
    "minj and maxj represent the minimum and maximum values of attribute j. The jth attribute value $x_{i}^{j}$  of the ith row is scaled as:\n",
    "\n",
    "#### $y_{i}^{j} = (x_{i}^{j} - min_{j})/(max_{j}-min_{j}) $\n",
    "\n",
    "We transform only the train dataset for scaling or any data tranformation tasks"
   ]
  },
  {
   "cell_type": "markdown",
   "metadata": {
    "id": "zvFre-Sl6hJI"
   },
   "source": [
    "#### Split the cleaned data into input features $(X_{i})$ and output component (Y)"
   ]
  },
  {
   "cell_type": "code",
   "execution_count": 1,
   "metadata": {
    "id": "gFpc8Jhe6hJI",
    "outputId": "af7d4371-18f0-4efe-92d7-c33a58b93137"
   },
   "outputs": [],
   "source": [
    "import pandas as pd\n",
    "import numpy as np"
   ]
  },
  {
   "cell_type": "code",
   "execution_count": 2,
   "metadata": {
    "id": "aLImNdEt6hJK",
    "outputId": "3f2eab97-5463-464d-ef79-9491ee1da9e4"
   },
   "outputs": [
    {
     "data": {
      "text/html": [
       "<div>\n",
       "<style scoped>\n",
       "    .dataframe tbody tr th:only-of-type {\n",
       "        vertical-align: middle;\n",
       "    }\n",
       "\n",
       "    .dataframe tbody tr th {\n",
       "        vertical-align: top;\n",
       "    }\n",
       "\n",
       "    .dataframe thead th {\n",
       "        text-align: right;\n",
       "    }\n",
       "</style>\n",
       "<table border=\"1\" class=\"dataframe\">\n",
       "  <thead>\n",
       "    <tr style=\"text-align: right;\">\n",
       "      <th></th>\n",
       "      <th>pregnant</th>\n",
       "      <th>glucose</th>\n",
       "      <th>bp</th>\n",
       "      <th>skin</th>\n",
       "      <th>insulin</th>\n",
       "      <th>bmi</th>\n",
       "      <th>pedigree</th>\n",
       "      <th>age</th>\n",
       "      <th>Diabetic</th>\n",
       "    </tr>\n",
       "  </thead>\n",
       "  <tbody>\n",
       "    <tr>\n",
       "      <th>0</th>\n",
       "      <td>6</td>\n",
       "      <td>148.0</td>\n",
       "      <td>72</td>\n",
       "      <td>35.00000</td>\n",
       "      <td>125</td>\n",
       "      <td>33.6</td>\n",
       "      <td>0.627</td>\n",
       "      <td>50</td>\n",
       "      <td>1</td>\n",
       "    </tr>\n",
       "    <tr>\n",
       "      <th>1</th>\n",
       "      <td>1</td>\n",
       "      <td>85.0</td>\n",
       "      <td>66</td>\n",
       "      <td>29.00000</td>\n",
       "      <td>125</td>\n",
       "      <td>26.6</td>\n",
       "      <td>0.351</td>\n",
       "      <td>31</td>\n",
       "      <td>0</td>\n",
       "    </tr>\n",
       "    <tr>\n",
       "      <th>2</th>\n",
       "      <td>8</td>\n",
       "      <td>183.0</td>\n",
       "      <td>64</td>\n",
       "      <td>29.15342</td>\n",
       "      <td>125</td>\n",
       "      <td>23.3</td>\n",
       "      <td>0.672</td>\n",
       "      <td>32</td>\n",
       "      <td>1</td>\n",
       "    </tr>\n",
       "    <tr>\n",
       "      <th>3</th>\n",
       "      <td>1</td>\n",
       "      <td>89.0</td>\n",
       "      <td>66</td>\n",
       "      <td>23.00000</td>\n",
       "      <td>94</td>\n",
       "      <td>28.1</td>\n",
       "      <td>0.167</td>\n",
       "      <td>21</td>\n",
       "      <td>0</td>\n",
       "    </tr>\n",
       "    <tr>\n",
       "      <th>4</th>\n",
       "      <td>0</td>\n",
       "      <td>137.0</td>\n",
       "      <td>40</td>\n",
       "      <td>35.00000</td>\n",
       "      <td>168</td>\n",
       "      <td>43.1</td>\n",
       "      <td>2.288</td>\n",
       "      <td>33</td>\n",
       "      <td>1</td>\n",
       "    </tr>\n",
       "  </tbody>\n",
       "</table>\n",
       "</div>"
      ],
      "text/plain": [
       "   pregnant  glucose  bp      skin  insulin   bmi  pedigree  age  Diabetic\n",
       "0         6    148.0  72  35.00000      125  33.6     0.627   50         1\n",
       "1         1     85.0  66  29.00000      125  26.6     0.351   31         0\n",
       "2         8    183.0  64  29.15342      125  23.3     0.672   32         1\n",
       "3         1     89.0  66  23.00000       94  28.1     0.167   21         0\n",
       "4         0    137.0  40  35.00000      168  43.1     2.288   33         1"
      ]
     },
     "execution_count": 2,
     "metadata": {},
     "output_type": "execute_result"
    }
   ],
   "source": [
    "dbts_new= pd.read_csv('C:/Users/yakuma/Desktop/Newfolder/college assignments/7th sem assignments/data warehousing/DbDW lab/imputed_data_diabetes.csv')\n",
    "dbts_new.head()"
   ]
  },
  {
   "cell_type": "code",
   "execution_count": 3,
   "metadata": {
    "id": "f5rEkKty6hJL"
   },
   "outputs": [],
   "source": [
    "spltd_data = dbts_new.values\n",
    "# separate the dataset into input and output components\n",
    "X = spltd_data [:,0:8]\n",
    "Y = spltd_data[:,8]"
   ]
  },
  {
   "cell_type": "markdown",
   "metadata": {
    "id": "hZ4FvhEG6hJL"
   },
   "source": [
    "### Separate the splitted dataset into training and testing dataset with training  dataset = 80% of cleaned data and test dataset  = 20% of cleaned dataset"
   ]
  },
  {
   "cell_type": "code",
   "execution_count": 4,
   "metadata": {
    "id": "rllrcT-g6hJL"
   },
   "outputs": [],
   "source": [
    "from sklearn.model_selection import train_test_split\n",
    "\n",
    "X_train, X_test, y_train, y_test = train_test_split(X, Y, test_size = 0.2)"
   ]
  },
  {
   "cell_type": "markdown",
   "metadata": {
    "id": "nr0zlfX66hJM"
   },
   "source": [
    "### Use Sci-Kit learn MinMaxScaler () for normlization"
   ]
  },
  {
   "cell_type": "code",
   "execution_count": 5,
   "metadata": {
    "id": "s7eYwvRH6hJM",
    "outputId": "e6d3af3f-f575-4f36-cc47-da8108ec7270"
   },
   "outputs": [
    {
     "name": "stdout",
     "output_type": "stream",
     "text": [
      "[[0.6429 0.4387 0.5652 0.1848 0.1334 0.2427 0.5126 0.4833]\n",
      " [0.0714 0.1742 0.1957 0.1196 0.0745 0.0534 0.1019 0.0167]\n",
      " [0.     0.3032 0.5435 0.2408 0.1334 0.3447 0.221  0.1   ]\n",
      " [0.5714 0.6387 0.3913 0.2408 0.1334 0.4053 0.0188 0.3333]\n",
      " [0.     0.7806 0.6522 0.2826 0.8005 0.8277 0.1465 0.0333]]\n"
     ]
    }
   ],
   "source": [
    "from sklearn.preprocessing import MinMaxScaler\n",
    "sclr = MinMaxScaler(feature_range=(0, 1))\n",
    "scaled_data_X_train = sclr.fit_transform(X_train)\n",
    "# summarize transformed data\n",
    "np.set_printoptions(precision=4)\n",
    "print(scaled_data_X_train[0:5,:])"
   ]
  },
  {
   "cell_type": "markdown",
   "metadata": {
    "id": "wacBLwM76hJM"
   },
   "source": [
    "#### The above code converted all the feature values into the  scale between 0 and 1 using Normalization or Min-Max scaling.\n",
    "Some learning algorithms like Neural Networks expect input values between [0,1] hence we use normalization for scaling in such case."
   ]
  },
  {
   "cell_type": "markdown",
   "metadata": {
    "id": "wnHqmie06hJN"
   },
   "source": [
    "### Standardization\n",
    "It is another approach to scaling where the scaled value isn't within the [0,1] range. It is suitable where the data collection process has errors and hence has extreme values or outliers.\n",
    "\n",
    "The jth attribute value $x_{i}^{j}$ of the ith row is  normalized by:\n",
    "\n",
    "#### Z-score_normalization (x')=  ($x_{i}^{j}$ -$\\mu_{j}$) / $\\sigma_{j}$\n",
    "\n",
    "where the $j^{th}$  attribute has mean $\\mu_{j}$ and standard deviation $\\sigma_{j}$ .\n",
    "                       \n",
    ">We use a function \"StandardScaler()\"  for standardization purpose."
   ]
  },
  {
   "cell_type": "code",
   "execution_count": 6,
   "metadata": {
    "id": "jrri4zbh6hJN",
    "outputId": "eb57189b-833c-4b91-edf0-c560625f89fa"
   },
   "outputs": [
    {
     "name": "stdout",
     "output_type": "stream",
     "text": [
      "[[ 1.549 -0.307  0.767 -0.549 -0.172 -0.601  2.425  1.362]\n",
      " [-0.871 -1.643 -2.01  -1.218 -0.713 -1.743 -0.466 -0.958]\n",
      " [-1.173 -0.991  0.604  0.026 -0.172  0.014  0.372 -0.544]\n",
      " [ 1.246  0.703 -0.54   0.026 -0.172  0.38  -1.051  0.616]\n",
      " [-1.173  1.42   1.42   0.455  5.961  2.928 -0.153 -0.875]]\n"
     ]
    }
   ],
   "source": [
    "from sklearn.preprocessing import StandardScaler\n",
    "scale_ftrs_stndrd = StandardScaler().fit(X_train)\n",
    "scaled_stndrd_X_train = scale_ftrs_stndrd.transform(X_train)\n",
    "# summarize transformed data\n",
    "np.set_printoptions(precision=3)\n",
    "print(scaled_stndrd_X_train[0:5,:])"
   ]
  },
  {
   "cell_type": "markdown",
   "metadata": {
    "id": "r4ZcdKI46hJN"
   },
   "source": [
    "### Dimensionality Reduction\n",
    "Dimensionality reduction is all about summarizing the data with most of the information preserved in compact form.Reducing the dimension of the feature space, creates fewer relationships between variables and hence the model is less likely to overfit.\n",
    "\n",
    "one of such technique discussed here is the Principal Component Analysis (PCA)\n",
    "\n",
    "###  Principal Component Analysis (PCA)\n",
    "PCA is a  dimensionality-reduction technique for reducing the dimensionality of large data sets, i.e. by transforming a large set of input features into a smaller set which still contains most of the information in the original dataset .But Before applying PCA, the  dataset must be rescaled, if not rescaled, the  model/algorithm's accuracy may not be improved much."
   ]
  },
  {
   "cell_type": "code",
   "execution_count": 7,
   "metadata": {
    "id": "Dtnw70x56hJO",
    "outputId": "b7cbe93a-9631-4da3-e6f4-0eabdd090270"
   },
   "outputs": [
    {
     "name": "stdout",
     "output_type": "stream",
     "text": [
      "Explained Variance: [0.284 0.192 0.14 ]\n"
     ]
    }
   ],
   "source": [
    "from sklearn.decomposition import PCA\n",
    "\n",
    "prcpl_cmpnts = PCA(n_components=3)  # use three diagonal compnents for data reduction and summarization\n",
    "prncpl_smmry = prcpl_cmpnts.fit(scaled_stndrd_X_train)\n",
    "print((\"Explained Variance: %s\") % (prncpl_smmry.explained_variance_ratio_)) # summarize the components\n"
   ]
  },
  {
   "cell_type": "code",
   "execution_count": 8,
   "metadata": {
    "id": "9UXzIyb06hJO",
    "outputId": "3fd89790-5b6f-4e47-e679-96b7f5922849"
   },
   "outputs": [
    {
     "name": "stdout",
     "output_type": "stream",
     "text": [
      "[[ 0.271  0.439  0.366  0.401  0.319  0.404  0.187  0.373]\n",
      " [ 0.572 -0.103  0.225 -0.262 -0.238 -0.382 -0.268  0.518]\n",
      " [-0.024  0.43  -0.271 -0.441  0.584 -0.398  0.199  0.084]]\n"
     ]
    }
   ],
   "source": [
    "print(prncpl_smmry.components_)"
   ]
  },
  {
   "cell_type": "markdown",
   "metadata": {
    "id": "KciK_0Wd6hJO"
   },
   "source": [
    "Above code created three principial components as denoted in three separate arrays. Each array represents the component that summarizes the overall data."
   ]
  }
 ],
 "metadata": {
  "colab": {
   "provenance": []
  },
  "kernelspec": {
   "display_name": ".venv",
   "language": "python",
   "name": "python3"
  },
  "language_info": {
   "codemirror_mode": {
    "name": "ipython",
    "version": 3
   },
   "file_extension": ".py",
   "mimetype": "text/x-python",
   "name": "python",
   "nbconvert_exporter": "python",
   "pygments_lexer": "ipython3",
   "version": "3.10.6"
  }
 },
 "nbformat": 4,
 "nbformat_minor": 0
}
