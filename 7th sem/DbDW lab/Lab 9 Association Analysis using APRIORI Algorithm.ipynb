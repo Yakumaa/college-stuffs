{
 "cells": [
  {
   "cell_type": "markdown",
   "metadata": {
    "id": "qSEESJGp3YMb"
   },
   "source": [
    "# Lab Report: Association Analysis using APRIORI Algorithm\n",
    "\n",
    "### 1. Association Analysis\n",
    "Association analysis is a rule-based machine learning technique used to discover interesting relationships, patterns, or associations between items in large datasets. It is widely used in market basket analysis to identify frequent item combinations.\n",
    "\n",
    "---\n",
    "\n",
    "### 2. Support\n",
    "Support measures the frequency of an item or item set appearing in the dataset. It is calculated as:\n",
    "\n",
    "$Support(X) = \\frac{\\text{Number of transactions containing } X}{\\text{Total number of transactions}}$\n",
    "\n",
    "Where \\(X\\) is the item or item set of interest.\n",
    "\n",
    "---\n",
    "\n",
    "### 3. Confidence\n",
    "Confidence indicates the likelihood of item \\(Y\\) being purchased when item \\(X\\) is purchased. It is calculated as:\n",
    "\n",
    "$Confidence(X \\rightarrow Y) = \\frac{\\text{Support}(X \\cup Y)}{\\text{Support}(X)}$\n",
    "\n",
    "Where \\(X \\rightarrow Y\\) represents an association rule.\n",
    "\n",
    "---\n",
    "\n",
    "### 4. The Apriori Principle\n",
    "The Apriori principle states that if an item set is infrequent, then all its supersets must also be infrequent. This principle is used to prune the search space and eliminate unnecessary candidate item sets during frequent item set generation.\n",
    "\n",
    "---\n",
    "\n",
    "### 5. Candidate Set\n",
    "A candidate set is a collection of potential item sets generated during the iterative process of the Apriori algorithm. These candidates are tested against the dataset to determine if they meet the minimum support threshold.\n",
    "\n",
    "---\n",
    "\n",
    "### 6. Min Support Threshold\n",
    "The minimum support threshold is a user-defined parameter that specifies the minimum frequency an item set must have to be considered frequent. Item sets with support values below this threshold are discarded.\n",
    "\n",
    "---\n",
    "\n",
    "### 7. Frequent Item Set\n",
    "A frequent item set is an item set that satisfies the minimum support threshold. These item sets form the basis for generating strong association rules that meet confidence criteria.\n",
    "\n",
    "---\n"
   ]
  },
  {
   "cell_type": "markdown",
   "metadata": {
    "id": "_9iIHGqW3YMc"
   },
   "source": [
    "### Apriori Algorithm:\n",
    "$ Notation =  C_{k} $\n",
    "$Candidate \\;itemset \\;of \\;size \\; k \\; and\\; L_{k} =  frequent \\;itemset\\; of\\; size\\; k $\n",
    "$  C_{k+1} =\\; candidates \\;generated \\;from \\;L_{k}$\n",
    "$ L_{k +1} = candidates \\;in \\; C_{k+1} \\;satisfying\\; minsup $\n",
    "\n",
    "1. Read the transaction database and get support for each itemset, compare the support with minimum support to generate frequent itemset at level 1.\n",
    "2.  Use join to generate a set of candidate k-item sets of length $ K+1 ( C_{k+1} ) $at next level.\n",
    "3. Generate frequent item sets sets of length $ K+1 (L_{k +1})$at next level using minimum support.\n",
    "     In this step\n",
    "        3.1 scan original database  to count support for k+1 candidates\n",
    "        3.2 prune candidates below minsup\n",
    "4.  Repeat step 2 and 3 until no frequent item sets can be generated.\n",
    "5. Generate rules form frequent itemsets from level 2 onwards using minimum confidence.\n"
   ]
  },
  {
   "cell_type": "markdown",
   "metadata": {
    "id": "4ORBIeol3YMd"
   },
   "source": [
    "### Implement apriori algorithm for market basket analysis"
   ]
  },
  {
   "cell_type": "code",
   "execution_count": 9,
   "metadata": {
    "id": "6HMdUaN_3YMe",
    "outputId": "fe9ba6db-1697-4903-d057-6b66ad76ad7d"
   },
   "outputs": [
    {
     "name": "stdout",
     "output_type": "stream",
     "text": [
      "Collecting apyori\n",
      "  Downloading apyori-1.1.2.tar.gz (8.6 kB)\n",
      "  Installing build dependencies: started\n",
      "  Installing build dependencies: finished with status 'done'\n",
      "  Getting requirements to build wheel: started\n",
      "  Getting requirements to build wheel: finished with status 'done'\n",
      "  Preparing metadata (pyproject.toml): started\n",
      "  Preparing metadata (pyproject.toml): finished with status 'done'\n",
      "Building wheels for collected packages: apyori\n",
      "  Building wheel for apyori (pyproject.toml): started\n",
      "  Building wheel for apyori (pyproject.toml): finished with status 'done'\n",
      "  Created wheel for apyori: filename=apyori-1.1.2-py3-none-any.whl size=5974 sha256=c666f116bfab4208662c7e7eda8dbeeae24e9780c7f921187e15610db91d8a69\n",
      "  Stored in directory: c:\\users\\yakuma\\appdata\\local\\pip\\cache\\wheels\\c4\\1a\\79\\20f55c470a50bb3702a8cb7c94d8ada15573538c7f4baebe2d\n",
      "Successfully built apyori\n",
      "Installing collected packages: apyori\n",
      "Successfully installed apyori-1.1.2\n"
     ]
    }
   ],
   "source": [
    "!pip install apyori"
   ]
  },
  {
   "cell_type": "code",
   "execution_count": null,
   "metadata": {
    "id": "1OT1UYf83YMf"
   },
   "outputs": [],
   "source": [
    "import pandas as pd\n",
    "from apyori import apriori"
   ]
  },
  {
   "cell_type": "code",
   "execution_count": 11,
   "metadata": {
    "id": "JFiUGSLJ3YMf",
    "outputId": "b6f4a024-e28e-4901-b781-ef686bb5e9f6"
   },
   "outputs": [
    {
     "data": {
      "text/html": [
       "<div>\n",
       "<style scoped>\n",
       "    .dataframe tbody tr th:only-of-type {\n",
       "        vertical-align: middle;\n",
       "    }\n",
       "\n",
       "    .dataframe tbody tr th {\n",
       "        vertical-align: top;\n",
       "    }\n",
       "\n",
       "    .dataframe thead th {\n",
       "        text-align: right;\n",
       "    }\n",
       "</style>\n",
       "<table border=\"1\" class=\"dataframe\">\n",
       "  <thead>\n",
       "    <tr style=\"text-align: right;\">\n",
       "      <th></th>\n",
       "      <th>0</th>\n",
       "      <th>1</th>\n",
       "      <th>2</th>\n",
       "      <th>3</th>\n",
       "      <th>4</th>\n",
       "      <th>5</th>\n",
       "    </tr>\n",
       "  </thead>\n",
       "  <tbody>\n",
       "    <tr>\n",
       "      <th>0</th>\n",
       "      <td>Wine</td>\n",
       "      <td>Chips</td>\n",
       "      <td>Bread</td>\n",
       "      <td>Butter</td>\n",
       "      <td>Milk</td>\n",
       "      <td>Apple</td>\n",
       "    </tr>\n",
       "    <tr>\n",
       "      <th>1</th>\n",
       "      <td>Wine</td>\n",
       "      <td>NaN</td>\n",
       "      <td>Bread</td>\n",
       "      <td>Butter</td>\n",
       "      <td>Milk</td>\n",
       "      <td>NaN</td>\n",
       "    </tr>\n",
       "    <tr>\n",
       "      <th>2</th>\n",
       "      <td>NaN</td>\n",
       "      <td>NaN</td>\n",
       "      <td>Bread</td>\n",
       "      <td>Butter</td>\n",
       "      <td>Milk</td>\n",
       "      <td>NaN</td>\n",
       "    </tr>\n",
       "    <tr>\n",
       "      <th>3</th>\n",
       "      <td>NaN</td>\n",
       "      <td>Chips</td>\n",
       "      <td>NaN</td>\n",
       "      <td>Butter</td>\n",
       "      <td>NaN</td>\n",
       "      <td>Apple</td>\n",
       "    </tr>\n",
       "    <tr>\n",
       "      <th>4</th>\n",
       "      <td>Wine</td>\n",
       "      <td>Chips</td>\n",
       "      <td>Bread</td>\n",
       "      <td>Butter</td>\n",
       "      <td>Milk</td>\n",
       "      <td>Apple</td>\n",
       "    </tr>\n",
       "  </tbody>\n",
       "</table>\n",
       "</div>"
      ],
      "text/plain": [
       "      0      1      2       3     4      5\n",
       "0  Wine  Chips  Bread  Butter  Milk  Apple\n",
       "1  Wine    NaN  Bread  Butter  Milk    NaN\n",
       "2   NaN    NaN  Bread  Butter  Milk    NaN\n",
       "3   NaN  Chips    NaN  Butter   NaN  Apple\n",
       "4  Wine  Chips  Bread  Butter  Milk  Apple"
      ]
     },
     "execution_count": 11,
     "metadata": {},
     "output_type": "execute_result"
    }
   ],
   "source": [
    "data_frame = pd.read_csv('C:/Users/yakuma/Desktop/Newfolder/college assignments/7th sem assignments/data warehousing/DbDW lab/market_basket.csv', header =None)\n",
    "data_frame.head()"
   ]
  },
  {
   "cell_type": "code",
   "execution_count": 12,
   "metadata": {
    "id": "9ZkqKj643YMf",
    "outputId": "5aea67ec-f62d-4de5-da2d-f07df173dfaf"
   },
   "outputs": [
    {
     "data": {
      "text/plain": [
       "(22, 6)"
      ]
     },
     "execution_count": 12,
     "metadata": {},
     "output_type": "execute_result"
    }
   ],
   "source": [
    "data_frame.shape"
   ]
  },
  {
   "cell_type": "markdown",
   "metadata": {
    "id": "cKgj44vW3YMg"
   },
   "source": [
    "### Convert Pandas dataframe into nested lists  "
   ]
  },
  {
   "cell_type": "code",
   "execution_count": 13,
   "metadata": {
    "id": "L6mvU1fX3YMg",
    "outputId": "5a49f3d8-6f00-42cc-d3d7-f459ec1f9aae"
   },
   "outputs": [
    {
     "name": "stdout",
     "output_type": "stream",
     "text": [
      "[['Wine', 'Chips', 'Bread', 'Butter', 'Milk', 'Apple'], ['Wine', 'nan', 'Bread', 'Butter', 'Milk', 'nan'], ['nan', 'nan', 'Bread', 'Butter', 'Milk', 'nan'], ['nan', 'Chips', 'nan', 'Butter', 'nan', 'Apple'], ['Wine', 'Chips', 'Bread', 'Butter', 'Milk', 'Apple'], ['Wine', 'Chips', 'nan', 'nan', 'Milk', 'nan'], ['Wine', 'Chips', 'Bread', 'Butter', 'nan', 'Apple'], ['Wine', 'Chips', 'nan', 'nan', 'Milk', 'nan'], ['Wine', 'nan', 'Bread', 'nan', 'nan', 'Apple'], ['nan', 'nan', 'Bread', 'Butter', 'Milk', 'nan'], ['Wine', 'Chips', 'Bread', 'Butter', 'nan', 'Apple'], ['Wine', 'nan', 'nan', 'Butter', 'Milk', 'Apple'], ['Wine', 'Chips', 'Bread', 'Butter', 'Milk', 'Apple'], ['Wine', 'nan', 'Bread', 'nan', 'Milk', 'nan'], ['Wine', 'nan', 'Bread', 'Butter', 'Milk', 'Apple'], ['Wine', 'Chips', 'Bread', 'Butter', 'Milk', 'Apple'], ['nan', 'Chips', 'Bread', 'Butter', 'Milk', 'Apple'], ['nan', 'Chips', 'nan', 'Butter', 'Milk', 'Apple'], ['Wine', 'Chips', 'Bread', 'Butter', 'Milk', 'Apple'], ['Wine', 'nan', 'Bread', 'Butter', 'Milk', 'Apple'], ['Wine', 'Chips', 'Bread', 'nan', 'Milk', 'Apple'], ['nan', 'Chips', 'nan', 'nan', 'nan', 'nan']]\n"
     ]
    }
   ],
   "source": [
    "lsts = []\n",
    "for i in range (0,22):\n",
    "    lsts.append([str(data_frame.values[i,j]) for j in range (0,6)])\n",
    "\n",
    "print (lsts)"
   ]
  },
  {
   "cell_type": "markdown",
   "metadata": {
    "id": "Tu2tQ8GG3YMg"
   },
   "source": [
    "### Goal of Association Rule Mining and its Application to any buisness\n",
    "When you apply Association Rule Mining on a given set of transactions T your goal will be to find all rules with:\n",
    "\n",
    "1. Support greater than or equal to min_support\n",
    "2. Confidence greater than or equal to min_confidence\n",
    "\n",
    "One of the algorithm for Association Rule Mining implemented here is APRIORI"
   ]
  },
  {
   "cell_type": "markdown",
   "metadata": {},
   "source": [
    "### Support, Confidence, Strong Rules, and Lift in Association Analysis"
   ]
  },
  {
   "cell_type": "markdown",
   "metadata": {
    "id": "MSD3nJkw3YMg"
   },
   "source": [
    "#### Support\n",
    "Support defines the popularity of an item within the dataset. It is calculated as the proportion of transactions that contain the item or item set.\n",
    "\n",
    "#### Confidence\n",
    "Confidence indicates the likelihood of how often items X and Y occur together, given the number of times X has occurred. It helps assess the strength of the association rule.\n",
    "\n",
    "#### Strong rules\n",
    "A rule A ⇒ B is considered a strong rule if it satisfies the minimum support (min_sup) and minimum confidence (min_confidence) thresholds. Strong rules indicate a reliable relationship between item sets.\n",
    "\n",
    "#### Lift \n",
    "Lift measures the correlation between A and B in the rule A ⇒ B. It shows how one item set A affects the item set B. It is calculated as:\n",
    "\n",
    "$\n",
    "\\text{Lift(A ⇒ B)} = \\frac{\\text{Support(A ∩ B)}}{\\text{Support(A)} \\times \\text{Support(B)}}\n",
    "$\n",
    "\n",
    "If the lift is greater than 1, then A and B are dependent on each other, and the degree of dependence is indicated by the lift value.\n",
    "\n",
    "\n",
    "#### Interpretation of Lift\n",
    "\n",
    "- **Lift** indicates the certainty of a rule. It shows how much the sale of item **X** has increased when item **Y** is sold.\n",
    "\n",
    "The formula for lift can also be expressed as:\n",
    "\n",
    "$\n",
    "\\text{Lift(X ⇒ Y)} = \\frac{\\text{Confidence(X, Y)}}{\\text{Support(Y)}}\n",
    "$\n",
    "\n",
    "#### Example\n",
    "\n",
    "For the rule **X ⇒ Y** with:\n",
    "\n",
    "- **Support = 60%**: This means that **60%** of all transactions show that **X** and **Y** have been bought together.\n",
    "- **Confidence = 90%**: This indicates that **90%** of the customers who bought **X** also bought **Y**.\n",
    "\n"
   ]
  },
  {
   "cell_type": "markdown",
   "metadata": {
    "id": "j7ATqJeR3YMh"
   },
   "source": [
    "### Make APRIORI MODEL  for RULE GENERATION"
   ]
  },
  {
   "cell_type": "code",
   "execution_count": 14,
   "metadata": {
    "id": "CtT0G0A93YMh"
   },
   "outputs": [],
   "source": [
    "asscsn_rules = apriori(lsts, min_support =0.50, min_confidence = 0.7, min_lift = 1.2, min_length = 2)\n",
    "asscsn_results = list(asscsn_rules)"
   ]
  },
  {
   "cell_type": "code",
   "execution_count": 16,
   "metadata": {
    "id": "ZT7vw52m3YMh",
    "outputId": "9883f9f1-fafe-449d-99d6-651cdcde75ad"
   },
   "outputs": [
    {
     "name": "stdout",
     "output_type": "stream",
     "text": [
      "[\n",
      "    [\n",
      "        \"frozenset({'Bread', 'Apple', 'Wine'})\",\n",
      "        0.5,\n",
      "        [\n",
      "            [\n",
      "                \"frozenset({'Apple'})\",\n",
      "                \"frozenset({'Bread', 'Wine'})\",\n",
      "                0.7333333333333334,\n",
      "                1.241025641025641\n",
      "            ],\n",
      "            [\n",
      "                \"frozenset({'Bread', 'Apple'})\",\n",
      "                \"frozenset({'Wine'})\",\n",
      "                0.9166666666666667,\n",
      "                1.2604166666666667\n",
      "            ],\n",
      "            [\n",
      "                \"frozenset({'Apple', 'Wine'})\",\n",
      "                \"frozenset({'Bread'})\",\n",
      "                0.9166666666666667,\n",
      "                1.2604166666666667\n",
      "            ],\n",
      "            [\n",
      "                \"frozenset({'Bread', 'Wine'})\",\n",
      "                \"frozenset({'Apple'})\",\n",
      "                0.8461538461538461,\n",
      "                1.241025641025641\n",
      "            ]\n",
      "        ]\n",
      "    ]\n",
      "]\n"
     ]
    }
   ],
   "source": [
    " import json\n",
    " print(json.dumps(asscsn_results, default=str, indent=4))"
   ]
  },
  {
   "cell_type": "markdown",
   "metadata": {
    "id": "w7DesPuv3YMi"
   },
   "source": [
    "### Result Interpretation -  Market basket analysis\n",
    "\n",
    "#### Consumer behavior insights\n",
    "Consumer behavior insights from the  given dataset and its applicaiton as interpreted below:\n",
    "\n",
    "---\n",
    "\n",
    "#### Frequent Item Set\n",
    "\n",
    "The frequent item set identified from the market basket dataset analysis is:\n",
    "\n",
    "- **{‘Wine’, ‘Apple’, ‘Bread’}, support = 0.5**\n",
    "  - This means these items are bought together **50%** of the time across all transactions.\n",
    "\n",
    "---\n",
    "\n",
    "#### Strong Association Rules\n",
    "\n",
    "##### Rule 1: {‘Apple’} → {‘Bread’, ‘Wine’}\n",
    "- **Confidence**: 0.7333 (or 73.33%)\n",
    "  - This indicates that **73.33%** of the consumers who bought **Apple** also bought **Bread & Wine**.\n",
    "- **Lift**: 1.241\n",
    "  - This means that **Bread & Wine** is **1.24 times more likely** to be bought by customers who buy **Apple**.\n",
    "  - A lift greater than 1 indicates a strong correlation between the items.\n",
    "\n",
    "---\n",
    "\n",
    "##### Rule 2: {‘Apple’, ‘Bread’} → {‘Wine’}\n",
    "- **Confidence**: 0.9167 (or 91.67%)\n",
    "  - This implies that **91.67%** of the customers who bought **Apple & Bread** also bought **Wine**.\n",
    "- **Lift**: 1.260\n",
    "  - This suggests a strong association, indicating that customers who buy both **Apple & Bread** are highly likely to also purchase **Wine**.\n",
    "\n",
    "---\n",
    "\n",
    "##### Rule 3: {‘Apple’, ‘Wine’} → {‘Bread’}\n",
    "- **Confidence**: 0.9167 (or 91.67%)\n",
    "  - This means that **91.67%** of the customers who bought **Apple & Wine** also bought **Bread**.\n",
    "- **Lift**: 1.260\n",
    "  - Similar to Rule 2, this indicates a strong correlation, suggesting that customers who buy **Apple & Wine** are also very likely to buy **Bread**.\n",
    "\n",
    "---\n",
    "\n",
    "##### Rule 4: {‘Bread’, ‘Wine’} → {‘Apple’}\n",
    "- **Confidence**: 0.8462 (or 84.62%)\n",
    "  - This implies that **84.62%** of the customers who bought **Bread & Wine** also bought **Apple**.\n",
    "- **Lift**: 1.241\n",
    "  - This indicates that customers who purchase **Bread & Wine** are also likely to buy **Apple**, with a significant correlation.\n",
    "\n"
   ]
  }
 ],
 "metadata": {
  "colab": {
   "provenance": []
  },
  "kernelspec": {
   "display_name": ".venv",
   "language": "python",
   "name": "python3"
  },
  "language_info": {
   "codemirror_mode": {
    "name": "ipython",
    "version": 3
   },
   "file_extension": ".py",
   "mimetype": "text/x-python",
   "name": "python",
   "nbconvert_exporter": "python",
   "pygments_lexer": "ipython3",
   "version": "3.10.6"
  }
 },
 "nbformat": 4,
 "nbformat_minor": 0
}
